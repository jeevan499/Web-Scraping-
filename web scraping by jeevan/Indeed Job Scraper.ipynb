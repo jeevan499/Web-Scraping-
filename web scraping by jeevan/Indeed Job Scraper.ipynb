{
 "cells": [
  {
   "cell_type": "markdown",
   "id": "0e5bf2ad",
   "metadata": {},
   "source": [
    "Create a general purpose job scraper for www.indeed.com"
   ]
  },
  {
   "cell_type": "code",
   "execution_count": 5,
   "id": "4facd245",
   "metadata": {},
   "outputs": [],
   "source": [
    "import csv                           # to export the data\n",
    "from datetime import datetime        # to import current date\n",
    "from bs4 import BeautifulSoup        # to parse the html and extract the data that we want from the job post\n",
    "import requests                      # to send the request to the server to get the row html\n",
    "import pandas as pd\n",
    "from selenium import webdriver"
   ]
  },
  {
   "cell_type": "code",
   "execution_count": 7,
   "id": "a6c87608",
   "metadata": {},
   "outputs": [],
   "source": [
    "template='https://in.indeed.com/jobs?q={}&rbl={}'"
   ]
  },
  {
   "cell_type": "code",
   "execution_count": 8,
   "id": "12557354",
   "metadata": {},
   "outputs": [],
   "source": [
    "def get_url(position,location):\n",
    "    '''generate a url from position and location'''\n",
    "    template='https://in.indeed.com/jobs?q={}&rbl={}'\n",
    "    url=template.format(position,location)\n",
    "    return url"
   ]
  },
  {
   "cell_type": "code",
   "execution_count": 9,
   "id": "ced7209b",
   "metadata": {},
   "outputs": [],
   "source": [
    "url=get_url('data scientist','bangalore')"
   ]
  },
  {
   "cell_type": "markdown",
   "id": "08b60a40",
   "metadata": {},
   "source": [
    "## sending the request and extract raw from html"
   ]
  },
  {
   "cell_type": "code",
   "execution_count": 10,
   "id": "f3a39bf7",
   "metadata": {},
   "outputs": [],
   "source": [
    "response=requests.get(url)"
   ]
  },
  {
   "cell_type": "code",
   "execution_count": 11,
   "id": "734c379a",
   "metadata": {},
   "outputs": [
    {
     "data": {
      "text/plain": [
       "<Response [200]>"
      ]
     },
     "execution_count": 11,
     "metadata": {},
     "output_type": "execute_result"
    }
   ],
   "source": [
    "response"
   ]
  },
  {
   "cell_type": "code",
   "execution_count": 12,
   "id": "71e51402",
   "metadata": {},
   "outputs": [
    {
     "data": {
      "text/plain": [
       "''"
      ]
     },
     "execution_count": 12,
     "metadata": {},
     "output_type": "execute_result"
    }
   ],
   "source": [
    "response.reason"
   ]
  },
  {
   "cell_type": "code",
   "execution_count": 13,
   "id": "3a8230fe",
   "metadata": {},
   "outputs": [],
   "source": [
    "soup=BeautifulSoup(response.text,'html.parser')"
   ]
  },
  {
   "cell_type": "code",
   "execution_count": 2,
   "id": "04413f86",
   "metadata": {},
   "outputs": [],
   "source": [
    "from bs4 import BeautifulSoup \n",
    "import csv\n",
    "import pandas as pd\n",
    "from selenium import webdriver"
   ]
  },
  {
   "cell_type": "code",
   "execution_count": 3,
   "id": "759925dd",
   "metadata": {},
   "outputs": [],
   "source": [
    "driver=webdriver.Chrome()"
   ]
  },
  {
   "cell_type": "code",
   "execution_count": 5,
   "id": "87660da1",
   "metadata": {},
   "outputs": [],
   "source": [
    "url='https:\\\\amazon.com'\n",
    "driver.get(url)"
   ]
  },
  {
   "cell_type": "code",
   "execution_count": null,
   "id": "533ee63e",
   "metadata": {},
   "outputs": [],
   "source": []
  }
 ],
 "metadata": {
  "kernelspec": {
   "display_name": "Python 3 (ipykernel)",
   "language": "python",
   "name": "python3"
  },
  "language_info": {
   "codemirror_mode": {
    "name": "ipython",
    "version": 3
   },
   "file_extension": ".py",
   "mimetype": "text/x-python",
   "name": "python",
   "nbconvert_exporter": "python",
   "pygments_lexer": "ipython3",
   "version": "3.9.7"
  }
 },
 "nbformat": 4,
 "nbformat_minor": 5
}
